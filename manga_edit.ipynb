{
 "cells": [
  {
   "cell_type": "code",
   "execution_count": 9,
   "metadata": {},
   "outputs": [],
   "source": [
    "# -*- coding: utf-8 -*-\n",
    "import cv2\n",
    "import numpy as np\n",
    "\n",
    "# 漫画化フィルタ\n",
    "def manga_filter(src, screen, th1=60, th2=150):\n",
    "    \n",
    "    # グレースケール変換\n",
    "    gray = cv2.cvtColor(src, cv2.COLOR_BGR2GRAY)\n",
    "    cv2.imwrite(\"gray_apple.jpg\", gray)\n",
    "    screen = cv2.cvtColor(screen, cv2.COLOR_BGR2GRAY)\n",
    "\n",
    "    # スクリーントーン画像を入力画像と同じ大きさにリサイズ\n",
    "    screen = cv2.resize(screen,(gray.shape[1],gray.shape[0]))\n",
    "\n",
    "    # Cannyアルゴリズムで輪郭検出し、色反転\n",
    "    edge = 255 - cv2.Canny(gray, 80, 120)\n",
    "    cv2.imwrite(\"edge_gray_apple.jpg\", edge)\n",
    "\n",
    "    # 三値化\n",
    "    gray[gray <= th1] = 0\n",
    "    gray[gray >= th2] = 255\n",
    "    gray[ np.where((gray > th1) & (gray < th2)) ] = screen[ np.where((gray > th1)&(gray < th2)) ]\n",
    "    cv2.imwrite(\"th_gray_apple.jpg\", gray)\n",
    "\n",
    "    # 三値画像と輪郭画像を合成\n",
    "    return cv2.bitwise_and(gray, edge)\n",
    "\n",
    "\n",
    "def main():\n",
    "\n",
    "    # 入力画像とスクリーントーン画像を取得\n",
    "    img = cv2.imread(\"apple.jpg\") \n",
    "    screen = cv2.imread(\"screen.jpg\")\n",
    "    \n",
    "    # 画像の漫画化\n",
    "    manga = manga_filter(img, screen, 60, 150)\n",
    "    \n",
    "    # 結果を出力\n",
    "    cv2.imwrite(\"output.jpg\", manga)\n",
    "\n",
    "\n",
    "if __name__ == '__main__':\n",
    "    main()"
   ]
  },
  {
   "cell_type": "code",
   "execution_count": null,
   "metadata": {},
   "outputs": [],
   "source": []
  }
 ],
 "metadata": {
  "kernelspec": {
   "display_name": "Python 3",
   "language": "python",
   "name": "python3"
  },
  "language_info": {
   "codemirror_mode": {
    "name": "ipython",
    "version": 3
   },
   "file_extension": ".py",
   "mimetype": "text/x-python",
   "name": "python",
   "nbconvert_exporter": "python",
   "pygments_lexer": "ipython3",
   "version": "3.5.4"
  }
 },
 "nbformat": 4,
 "nbformat_minor": 2
}
