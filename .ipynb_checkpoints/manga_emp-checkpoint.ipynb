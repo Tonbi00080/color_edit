{
 "cells": [
  {
   "cell_type": "code",
   "execution_count": null,
   "metadata": {},
   "outputs": [],
   "source": [
    "import cv2\n",
    "import numpy as np\n",
    "\n",
    "# 漫画っぽい強調フィルタ\n",
    "def manga_emp_filter(src, bg, th1=50, th2=125,th3 = 200, th4 = 250):\n",
    "    \n",
    "    # グレースケール変換\n",
    "    gray = cv2.cvtColor(src, cv2.COLOR_BGR2GRAY)\n",
    "    bg = cv2.cvtColor(bg, cv2.COLOR_BGR2GRAY)\n",
    "    # 強調画像を入力画像と同じ大きさにリサイズ\n",
    "    bg = cv2.resize(bg,(gray.shape[1],gray.shape[0]))\n",
    "\n",
    "    # Cannyアルゴリズムで輪郭検出し、色反転\n",
    "    edge = 255 - cv2.Canny(gray, 80, 120)\n",
    "    cv2.imwrite(\"edge_apple.jpg\", edge)\n",
    "    \n",
    "    # x =色の値(黒0 -- 白255)\n",
    "    # 　しきい値処理１：0<x<=50 -> 0\n",
    "    gray[gray <= th1] = 0\n",
    "    cv2.imwrite(\"th1_apple.jpg\", gray)\n",
    "    # 　しきい値処理2：50<x<=125 -> 85\n",
    "    gray[ np.where((gray > th1) & (gray < th2)) ] = 85\n",
    "    cv2.imwrite(\"th2_apple.jpg\", gray)\n",
    "    # 　しきい値処理3：125<x<=200 -> 160\n",
    "    gray[ np.where((gray > th2) & (gray < th3)) ] = 180\n",
    "    cv2.imwrite(\"th3_apple.jpg\", gray)\n",
    "    # 　しきい値処理4：200<x<=250 -> 225\n",
    "    gray[ np.where((gray > th3) & (gray < th4)) ] = 225\n",
    "    cv2.imwrite(\"th4_apple.jpg\", gray)\n",
    "    # 　しきい値処理5：250<x<=255 -> 強調画像\n",
    "    gray[gray >= th4] = bg[ np.where(gray >= th4) ]\n",
    "    cv2.imwrite(\"th5_apple.jpg\", gray)\n",
    "\n",
    "    # しきい値処理した画像と輪郭画像を合成\n",
    "    return cv2.bitwise_and(gray, edge)\n",
    "\n",
    "\n",
    "def main():\n",
    "\n",
    "    # 入力画像とスクリーントーン画像を取得\n",
    "    img = cv2.imread(\"apple.jpg\") \n",
    "    bg = cv2.imread(\"background.jpg\")\n",
    "    \n",
    "    # 画像の漫画っぽい強調を行う\n",
    "    manga_emp = manga_emp_filter(img, bg, 50, 125, 200,250)\n",
    "    \n",
    "    # 結果を出力\n",
    "    cv2.imwrite(\"emp_apple.jpg\", manga_emp)\n",
    "\n",
    "\n",
    "if __name__ == '__main__':\n",
    "    main()"
   ]
  }
 ],
 "metadata": {
  "kernelspec": {
   "display_name": "Python 3",
   "language": "python",
   "name": "python3"
  },
  "language_info": {
   "codemirror_mode": {
    "name": "ipython",
    "version": 3
   },
   "file_extension": ".py",
   "mimetype": "text/x-python",
   "name": "python",
   "nbconvert_exporter": "python",
   "pygments_lexer": "ipython3",
   "version": "3.5.4"
  }
 },
 "nbformat": 4,
 "nbformat_minor": 2
}
